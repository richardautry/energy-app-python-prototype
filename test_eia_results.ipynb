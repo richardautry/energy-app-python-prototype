{
 "cells": [
  {
   "cell_type": "code",
   "execution_count": 3,
   "id": "c838eb6e-9696-4909-abcd-2e041337b3ca",
   "metadata": {},
   "outputs": [],
   "source": [
    "from eia_api_client import EIAClient, Frequency, DataType, Facet\n",
    "import json\n",
    "from datetime import datetime, timezone, timedelta"
   ]
  },
  {
   "cell_type": "code",
   "execution_count": 4,
   "id": "d8c708d3-50e2-47c3-9fd5-c9f828082e03",
   "metadata": {},
   "outputs": [],
   "source": [
    "with open(\"config.json\", \"r\") as f:\n",
    "    config_json = json.load(f)\n",
    "\n",
    "api_key = config_json.get(\"api_key\")\n",
    "\n",
    "eia_client = EIAClient(api_key)\n",
    "eia_response = eia_client.get_data(\n",
    "    frequency=Frequency.LOCAL_HOURLY,\n",
    "    data_type=DataType.VALUE,\n",
    "    facet=Facet.MIDA,\n",
    "    start=datetime(2023, 6, 24, tzinfo=timezone(offset=-timedelta(hours=4))),\n",
    "    end=datetime(2023, 7, 1, tzinfo=timezone(offset=-timedelta(hours=4)))\n",
    ")"
   ]
  },
  {
   "cell_type": "code",
   "execution_count": 10,
   "id": "2f83360e-9804-49c3-beff-c979c8070808",
   "metadata": {},
   "outputs": [
    {
     "data": {
      "text/plain": [
       "[Data(period='2023-06-23T20-04', respondent='MIDA', respondent_name='Mid-Atlantic', type='D', type_name='Demand', value=98464, value_units='megawatthours'),\n",
       " Data(period='2023-06-23T21-04', respondent='MIDA', respondent_name='Mid-Atlantic', type='D', type_name='Demand', value=96522, value_units='megawatthours'),\n",
       " Data(period='2023-06-23T22-04', respondent='MIDA', respondent_name='Mid-Atlantic', type='D', type_name='Demand', value=94688, value_units='megawatthours'),\n",
       " Data(period='2023-06-23T23-04', respondent='MIDA', respondent_name='Mid-Atlantic', type='D', type_name='Demand', value=90957, value_units='megawatthours'),\n",
       " Data(period='2023-06-24T00-04', respondent='MIDA', respondent_name='Mid-Atlantic', type='D', type_name='Demand', value=86713, value_units='megawatthours'),\n",
       " Data(period='2023-06-24T01-04', respondent='MIDA', respondent_name='Mid-Atlantic', type='D', type_name='Demand', value=82649, value_units='megawatthours'),\n",
       " Data(period='2023-06-24T02-04', respondent='MIDA', respondent_name='Mid-Atlantic', type='D', type_name='Demand', value=79436, value_units='megawatthours'),\n",
       " Data(period='2023-06-24T03-04', respondent='MIDA', respondent_name='Mid-Atlantic', type='D', type_name='Demand', value=77169, value_units='megawatthours'),\n",
       " Data(period='2023-06-24T04-04', respondent='MIDA', respondent_name='Mid-Atlantic', type='D', type_name='Demand', value=75551, value_units='megawatthours'),\n",
       " Data(period='2023-06-24T05-04', respondent='MIDA', respondent_name='Mid-Atlantic', type='D', type_name='Demand', value=74984, value_units='megawatthours')]"
      ]
     },
     "execution_count": 10,
     "metadata": {},
     "output_type": "execute_result"
    }
   ],
   "source": [
    "data = eia_response.data\n",
    "data[:10]"
   ]
  },
  {
   "cell_type": "code",
   "execution_count": 13,
   "id": "2ca84d70-e6d3-4fe3-9e68-709c048ca1a9",
   "metadata": {},
   "outputs": [
    {
     "data": {
      "text/plain": [
       "[Data(period='2023-06-23T20-04', respondent='MIDA', respondent_name='Mid-Atlantic', type='D', type_name='Demand', value=98464, value_units='megawatthours'),\n",
       " Data(period='2023-06-23T21-04', respondent='MIDA', respondent_name='Mid-Atlantic', type='D', type_name='Demand', value=96522, value_units='megawatthours'),\n",
       " Data(period='2023-06-23T22-04', respondent='MIDA', respondent_name='Mid-Atlantic', type='D', type_name='Demand', value=94688, value_units='megawatthours'),\n",
       " Data(period='2023-06-23T23-04', respondent='MIDA', respondent_name='Mid-Atlantic', type='D', type_name='Demand', value=90957, value_units='megawatthours'),\n",
       " Data(period='2023-06-24T00-04', respondent='MIDA', respondent_name='Mid-Atlantic', type='D', type_name='Demand', value=86713, value_units='megawatthours'),\n",
       " Data(period='2023-06-24T01-04', respondent='MIDA', respondent_name='Mid-Atlantic', type='D', type_name='Demand', value=82649, value_units='megawatthours'),\n",
       " Data(period='2023-06-24T02-04', respondent='MIDA', respondent_name='Mid-Atlantic', type='D', type_name='Demand', value=79436, value_units='megawatthours'),\n",
       " Data(period='2023-06-24T03-04', respondent='MIDA', respondent_name='Mid-Atlantic', type='D', type_name='Demand', value=77169, value_units='megawatthours'),\n",
       " Data(period='2023-06-24T04-04', respondent='MIDA', respondent_name='Mid-Atlantic', type='D', type_name='Demand', value=75551, value_units='megawatthours'),\n",
       " Data(period='2023-06-24T05-04', respondent='MIDA', respondent_name='Mid-Atlantic', type='D', type_name='Demand', value=74984, value_units='megawatthours'),\n",
       " Data(period='2023-06-24T06-04', respondent='MIDA', respondent_name='Mid-Atlantic', type='D', type_name='Demand', value=75244, value_units='megawatthours'),\n",
       " Data(period='2023-06-24T07-04', respondent='MIDA', respondent_name='Mid-Atlantic', type='D', type_name='Demand', value=75867, value_units='megawatthours'),\n",
       " Data(period='2023-06-24T08-04', respondent='MIDA', respondent_name='Mid-Atlantic', type='D', type_name='Demand', value=78663, value_units='megawatthours'),\n",
       " Data(period='2023-06-24T09-04', respondent='MIDA', respondent_name='Mid-Atlantic', type='D', type_name='Demand', value=82866, value_units='megawatthours'),\n",
       " Data(period='2023-06-24T10-04', respondent='MIDA', respondent_name='Mid-Atlantic', type='D', type_name='Demand', value=86214, value_units='megawatthours'),\n",
       " Data(period='2023-06-24T11-04', respondent='MIDA', respondent_name='Mid-Atlantic', type='D', type_name='Demand', value=90157, value_units='megawatthours'),\n",
       " Data(period='2023-06-24T12-04', respondent='MIDA', respondent_name='Mid-Atlantic', type='D', type_name='Demand', value=93593, value_units='megawatthours'),\n",
       " Data(period='2023-06-24T13-04', respondent='MIDA', respondent_name='Mid-Atlantic', type='D', type_name='Demand', value=97376, value_units='megawatthours'),\n",
       " Data(period='2023-06-24T14-04', respondent='MIDA', respondent_name='Mid-Atlantic', type='D', type_name='Demand', value=100701, value_units='megawatthours'),\n",
       " Data(period='2023-06-24T15-04', respondent='MIDA', respondent_name='Mid-Atlantic', type='D', type_name='Demand', value=103044, value_units='megawatthours'),\n",
       " Data(period='2023-06-24T16-04', respondent='MIDA', respondent_name='Mid-Atlantic', type='D', type_name='Demand', value=105686, value_units='megawatthours'),\n",
       " Data(period='2023-06-24T17-04', respondent='MIDA', respondent_name='Mid-Atlantic', type='D', type_name='Demand', value=107807, value_units='megawatthours'),\n",
       " Data(period='2023-06-24T18-04', respondent='MIDA', respondent_name='Mid-Atlantic', type='D', type_name='Demand', value=109610, value_units='megawatthours'),\n",
       " Data(period='2023-06-24T19-04', respondent='MIDA', respondent_name='Mid-Atlantic', type='D', type_name='Demand', value=109695, value_units='megawatthours'),\n",
       " Data(period='2023-06-24T20-04', respondent='MIDA', respondent_name='Mid-Atlantic', type='D', type_name='Demand', value=107514, value_units='megawatthours'),\n",
       " Data(period='2023-06-24T21-04', respondent='MIDA', respondent_name='Mid-Atlantic', type='D', type_name='Demand', value=103980, value_units='megawatthours'),\n",
       " Data(period='2023-06-24T22-04', respondent='MIDA', respondent_name='Mid-Atlantic', type='D', type_name='Demand', value=100948, value_units='megawatthours'),\n",
       " Data(period='2023-06-24T23-04', respondent='MIDA', respondent_name='Mid-Atlantic', type='D', type_name='Demand', value=96422, value_units='megawatthours'),\n",
       " Data(period='2023-06-25T00-04', respondent='MIDA', respondent_name='Mid-Atlantic', type='D', type_name='Demand', value=91759, value_units='megawatthours'),\n",
       " Data(period='2023-06-25T01-04', respondent='MIDA', respondent_name='Mid-Atlantic', type='D', type_name='Demand', value=87136, value_units='megawatthours'),\n",
       " Data(period='2023-06-25T02-04', respondent='MIDA', respondent_name='Mid-Atlantic', type='D', type_name='Demand', value=83112, value_units='megawatthours'),\n",
       " Data(period='2023-06-25T03-04', respondent='MIDA', respondent_name='Mid-Atlantic', type='D', type_name='Demand', value=79430, value_units='megawatthours'),\n",
       " Data(period='2023-06-25T04-04', respondent='MIDA', respondent_name='Mid-Atlantic', type='D', type_name='Demand', value=76903, value_units='megawatthours'),\n",
       " Data(period='2023-06-25T05-04', respondent='MIDA', respondent_name='Mid-Atlantic', type='D', type_name='Demand', value=75290, value_units='megawatthours'),\n",
       " Data(period='2023-06-25T06-04', respondent='MIDA', respondent_name='Mid-Atlantic', type='D', type_name='Demand', value=74390, value_units='megawatthours'),\n",
       " Data(period='2023-06-25T07-04', respondent='MIDA', respondent_name='Mid-Atlantic', type='D', type_name='Demand', value=74652, value_units='megawatthours'),\n",
       " Data(period='2023-06-25T08-04', respondent='MIDA', respondent_name='Mid-Atlantic', type='D', type_name='Demand', value=77787, value_units='megawatthours'),\n",
       " Data(period='2023-06-25T09-04', respondent='MIDA', respondent_name='Mid-Atlantic', type='D', type_name='Demand', value=83283, value_units='megawatthours'),\n",
       " Data(period='2023-06-25T10-04', respondent='MIDA', respondent_name='Mid-Atlantic', type='D', type_name='Demand', value=89548, value_units='megawatthours'),\n",
       " Data(period='2023-06-25T11-04', respondent='MIDA', respondent_name='Mid-Atlantic', type='D', type_name='Demand', value=94714, value_units='megawatthours'),\n",
       " Data(period='2023-06-25T12-04', respondent='MIDA', respondent_name='Mid-Atlantic', type='D', type_name='Demand', value=99547, value_units='megawatthours'),\n",
       " Data(period='2023-06-25T13-04', respondent='MIDA', respondent_name='Mid-Atlantic', type='D', type_name='Demand', value=104340, value_units='megawatthours'),\n",
       " Data(period='2023-06-25T14-04', respondent='MIDA', respondent_name='Mid-Atlantic', type='D', type_name='Demand', value=107942, value_units='megawatthours'),\n",
       " Data(period='2023-06-25T15-04', respondent='MIDA', respondent_name='Mid-Atlantic', type='D', type_name='Demand', value=109614, value_units='megawatthours'),\n",
       " Data(period='2023-06-25T16-04', respondent='MIDA', respondent_name='Mid-Atlantic', type='D', type_name='Demand', value=110843, value_units='megawatthours'),\n",
       " Data(period='2023-06-25T17-04', respondent='MIDA', respondent_name='Mid-Atlantic', type='D', type_name='Demand', value=112300, value_units='megawatthours'),\n",
       " Data(period='2023-06-25T18-04', respondent='MIDA', respondent_name='Mid-Atlantic', type='D', type_name='Demand', value=112980, value_units='megawatthours'),\n",
       " Data(period='2023-06-25T19-04', respondent='MIDA', respondent_name='Mid-Atlantic', type='D', type_name='Demand', value=111989, value_units='megawatthours'),\n",
       " Data(period='2023-06-25T20-04', respondent='MIDA', respondent_name='Mid-Atlantic', type='D', type_name='Demand', value=109649, value_units='megawatthours'),\n",
       " Data(period='2023-06-25T21-04', respondent='MIDA', respondent_name='Mid-Atlantic', type='D', type_name='Demand', value=106104, value_units='megawatthours'),\n",
       " Data(period='2023-06-25T22-04', respondent='MIDA', respondent_name='Mid-Atlantic', type='D', type_name='Demand', value=102860, value_units='megawatthours'),\n",
       " Data(period='2023-06-25T23-04', respondent='MIDA', respondent_name='Mid-Atlantic', type='D', type_name='Demand', value=97176, value_units='megawatthours'),\n",
       " Data(period='2023-06-26T00-04', respondent='MIDA', respondent_name='Mid-Atlantic', type='D', type_name='Demand', value=91527, value_units='megawatthours'),\n",
       " Data(period='2023-06-26T01-04', respondent='MIDA', respondent_name='Mid-Atlantic', type='D', type_name='Demand', value=87571, value_units='megawatthours'),\n",
       " Data(period='2023-06-26T02-04', respondent='MIDA', respondent_name='Mid-Atlantic', type='D', type_name='Demand', value=84565, value_units='megawatthours'),\n",
       " Data(period='2023-06-26T03-04', respondent='MIDA', respondent_name='Mid-Atlantic', type='D', type_name='Demand', value=81902, value_units='megawatthours'),\n",
       " Data(period='2023-06-26T04-04', respondent='MIDA', respondent_name='Mid-Atlantic', type='D', type_name='Demand', value=80329, value_units='megawatthours'),\n",
       " Data(period='2023-06-26T05-04', respondent='MIDA', respondent_name='Mid-Atlantic', type='D', type_name='Demand', value=80749, value_units='megawatthours'),\n",
       " Data(period='2023-06-26T06-04', respondent='MIDA', respondent_name='Mid-Atlantic', type='D', type_name='Demand', value=83238, value_units='megawatthours'),\n",
       " Data(period='2023-06-26T07-04', respondent='MIDA', respondent_name='Mid-Atlantic', type='D', type_name='Demand', value=87227, value_units='megawatthours'),\n",
       " Data(period='2023-06-26T08-04', respondent='MIDA', respondent_name='Mid-Atlantic', type='D', type_name='Demand', value=92705, value_units='megawatthours'),\n",
       " Data(period='2023-06-26T09-04', respondent='MIDA', respondent_name='Mid-Atlantic', type='D', type_name='Demand', value=97112, value_units='megawatthours'),\n",
       " Data(period='2023-06-26T10-04', respondent='MIDA', respondent_name='Mid-Atlantic', type='D', type_name='Demand', value=100417, value_units='megawatthours'),\n",
       " Data(period='2023-06-26T11-04', respondent='MIDA', respondent_name='Mid-Atlantic', type='D', type_name='Demand', value=103951, value_units='megawatthours'),\n",
       " Data(period='2023-06-26T12-04', respondent='MIDA', respondent_name='Mid-Atlantic', type='D', type_name='Demand', value=107768, value_units='megawatthours'),\n",
       " Data(period='2023-06-26T13-04', respondent='MIDA', respondent_name='Mid-Atlantic', type='D', type_name='Demand', value=111570, value_units='megawatthours'),\n",
       " Data(period='2023-06-26T14-04', respondent='MIDA', respondent_name='Mid-Atlantic', type='D', type_name='Demand', value=113952, value_units='megawatthours'),\n",
       " Data(period='2023-06-26T15-04', respondent='MIDA', respondent_name='Mid-Atlantic', type='D', type_name='Demand', value=114985, value_units='megawatthours'),\n",
       " Data(period='2023-06-26T16-04', respondent='MIDA', respondent_name='Mid-Atlantic', type='D', type_name='Demand', value=116139, value_units='megawatthours'),\n",
       " Data(period='2023-06-26T17-04', respondent='MIDA', respondent_name='Mid-Atlantic', type='D', type_name='Demand', value=116382, value_units='megawatthours'),\n",
       " Data(period='2023-06-26T18-04', respondent='MIDA', respondent_name='Mid-Atlantic', type='D', type_name='Demand', value=116740, value_units='megawatthours'),\n",
       " Data(period='2023-06-26T19-04', respondent='MIDA', respondent_name='Mid-Atlantic', type='D', type_name='Demand', value=115104, value_units='megawatthours'),\n",
       " Data(period='2023-06-26T20-04', respondent='MIDA', respondent_name='Mid-Atlantic', type='D', type_name='Demand', value=111578, value_units='megawatthours'),\n",
       " Data(period='2023-06-26T21-04', respondent='MIDA', respondent_name='Mid-Atlantic', type='D', type_name='Demand', value=107426, value_units='megawatthours'),\n",
       " Data(period='2023-06-26T22-04', respondent='MIDA', respondent_name='Mid-Atlantic', type='D', type_name='Demand', value=103914, value_units='megawatthours'),\n",
       " Data(period='2023-06-26T23-04', respondent='MIDA', respondent_name='Mid-Atlantic', type='D', type_name='Demand', value=97787, value_units='megawatthours'),\n",
       " Data(period='2023-06-27T00-04', respondent='MIDA', respondent_name='Mid-Atlantic', type='D', type_name='Demand', value=92058, value_units='megawatthours'),\n",
       " Data(period='2023-06-27T01-04', respondent='MIDA', respondent_name='Mid-Atlantic', type='D', type_name='Demand', value=87691, value_units='megawatthours'),\n",
       " Data(period='2023-06-27T02-04', respondent='MIDA', respondent_name='Mid-Atlantic', type='D', type_name='Demand', value=83623, value_units='megawatthours'),\n",
       " Data(period='2023-06-27T03-04', respondent='MIDA', respondent_name='Mid-Atlantic', type='D', type_name='Demand', value=80436, value_units='megawatthours'),\n",
       " Data(period='2023-06-27T04-04', respondent='MIDA', respondent_name='Mid-Atlantic', type='D', type_name='Demand', value=78646, value_units='megawatthours'),\n",
       " Data(period='2023-06-27T05-04', respondent='MIDA', respondent_name='Mid-Atlantic', type='D', type_name='Demand', value=78760, value_units='megawatthours'),\n",
       " Data(period='2023-06-27T06-04', respondent='MIDA', respondent_name='Mid-Atlantic', type='D', type_name='Demand', value=81002, value_units='megawatthours'),\n",
       " Data(period='2023-06-27T07-04', respondent='MIDA', respondent_name='Mid-Atlantic', type='D', type_name='Demand', value=84748, value_units='megawatthours'),\n",
       " Data(period='2023-06-27T08-04', respondent='MIDA', respondent_name='Mid-Atlantic', type='D', type_name='Demand', value=89219, value_units='megawatthours'),\n",
       " Data(period='2023-06-27T09-04', respondent='MIDA', respondent_name='Mid-Atlantic', type='D', type_name='Demand', value=92532, value_units='megawatthours'),\n",
       " Data(period='2023-06-27T10-04', respondent='MIDA', respondent_name='Mid-Atlantic', type='D', type_name='Demand', value=93747, value_units='megawatthours'),\n",
       " Data(period='2023-06-27T11-04', respondent='MIDA', respondent_name='Mid-Atlantic', type='D', type_name='Demand', value=95698, value_units='megawatthours'),\n",
       " Data(period='2023-06-27T12-04', respondent='MIDA', respondent_name='Mid-Atlantic', type='D', type_name='Demand', value=98527, value_units='megawatthours'),\n",
       " Data(period='2023-06-27T13-04', respondent='MIDA', respondent_name='Mid-Atlantic', type='D', type_name='Demand', value=101014, value_units='megawatthours'),\n",
       " Data(period='2023-06-27T14-04', respondent='MIDA', respondent_name='Mid-Atlantic', type='D', type_name='Demand', value=103606, value_units='megawatthours'),\n",
       " Data(period='2023-06-27T15-04', respondent='MIDA', respondent_name='Mid-Atlantic', type='D', type_name='Demand', value=105014, value_units='megawatthours'),\n",
       " Data(period='2023-06-27T16-04', respondent='MIDA', respondent_name='Mid-Atlantic', type='D', type_name='Demand', value=105440, value_units='megawatthours'),\n",
       " Data(period='2023-06-27T17-04', respondent='MIDA', respondent_name='Mid-Atlantic', type='D', type_name='Demand', value=105719, value_units='megawatthours'),\n",
       " Data(period='2023-06-27T18-04', respondent='MIDA', respondent_name='Mid-Atlantic', type='D', type_name='Demand', value=106321, value_units='megawatthours'),\n",
       " Data(period='2023-06-27T19-04', respondent='MIDA', respondent_name='Mid-Atlantic', type='D', type_name='Demand', value=105092, value_units='megawatthours'),\n",
       " Data(period='2023-06-27T20-04', respondent='MIDA', respondent_name='Mid-Atlantic', type='D', type_name='Demand', value=102385, value_units='megawatthours'),\n",
       " Data(period='2023-06-27T21-04', respondent='MIDA', respondent_name='Mid-Atlantic', type='D', type_name='Demand', value=99760, value_units='megawatthours'),\n",
       " Data(period='2023-06-27T22-04', respondent='MIDA', respondent_name='Mid-Atlantic', type='D', type_name='Demand', value=97074, value_units='megawatthours'),\n",
       " Data(period='2023-06-27T23-04', respondent='MIDA', respondent_name='Mid-Atlantic', type='D', type_name='Demand', value=91712, value_units='megawatthours'),\n",
       " Data(period='2023-06-28T00-04', respondent='MIDA', respondent_name='Mid-Atlantic', type='D', type_name='Demand', value=86560, value_units='megawatthours'),\n",
       " Data(period='2023-06-28T01-04', respondent='MIDA', respondent_name='Mid-Atlantic', type='D', type_name='Demand', value=82861, value_units='megawatthours'),\n",
       " Data(period='2023-06-28T02-04', respondent='MIDA', respondent_name='Mid-Atlantic', type='D', type_name='Demand', value=79481, value_units='megawatthours'),\n",
       " Data(period='2023-06-28T03-04', respondent='MIDA', respondent_name='Mid-Atlantic', type='D', type_name='Demand', value=76877, value_units='megawatthours'),\n",
       " Data(period='2023-06-28T04-04', respondent='MIDA', respondent_name='Mid-Atlantic', type='D', type_name='Demand', value=75486, value_units='megawatthours'),\n",
       " Data(period='2023-06-28T05-04', respondent='MIDA', respondent_name='Mid-Atlantic', type='D', type_name='Demand', value=75526, value_units='megawatthours'),\n",
       " Data(period='2023-06-28T06-04', respondent='MIDA', respondent_name='Mid-Atlantic', type='D', type_name='Demand', value=77918, value_units='megawatthours'),\n",
       " Data(period='2023-06-28T07-04', respondent='MIDA', respondent_name='Mid-Atlantic', type='D', type_name='Demand', value=81409, value_units='megawatthours'),\n",
       " Data(period='2023-06-28T08-04', respondent='MIDA', respondent_name='Mid-Atlantic', type='D', type_name='Demand', value=86283, value_units='megawatthours'),\n",
       " Data(period='2023-06-28T09-04', respondent='MIDA', respondent_name='Mid-Atlantic', type='D', type_name='Demand', value=90937, value_units='megawatthours'),\n",
       " Data(period='2023-06-28T10-04', respondent='MIDA', respondent_name='Mid-Atlantic', type='D', type_name='Demand', value=93530, value_units='megawatthours'),\n",
       " Data(period='2023-06-28T11-04', respondent='MIDA', respondent_name='Mid-Atlantic', type='D', type_name='Demand', value=95335, value_units='megawatthours'),\n",
       " Data(period='2023-06-28T12-04', respondent='MIDA', respondent_name='Mid-Atlantic', type='D', type_name='Demand', value=98185, value_units='megawatthours'),\n",
       " Data(period='2023-06-28T13-04', respondent='MIDA', respondent_name='Mid-Atlantic', type='D', type_name='Demand', value=101119, value_units='megawatthours'),\n",
       " Data(period='2023-06-28T14-04', respondent='MIDA', respondent_name='Mid-Atlantic', type='D', type_name='Demand', value=104253, value_units='megawatthours'),\n",
       " Data(period='2023-06-28T15-04', respondent='MIDA', respondent_name='Mid-Atlantic', type='D', type_name='Demand', value=107223, value_units='megawatthours'),\n",
       " Data(period='2023-06-28T16-04', respondent='MIDA', respondent_name='Mid-Atlantic', type='D', type_name='Demand', value=109274, value_units='megawatthours'),\n",
       " Data(period='2023-06-28T17-04', respondent='MIDA', respondent_name='Mid-Atlantic', type='D', type_name='Demand', value=110795, value_units='megawatthours'),\n",
       " Data(period='2023-06-28T18-04', respondent='MIDA', respondent_name='Mid-Atlantic', type='D', type_name='Demand', value=112247, value_units='megawatthours'),\n",
       " Data(period='2023-06-28T19-04', respondent='MIDA', respondent_name='Mid-Atlantic', type='D', type_name='Demand', value=111133, value_units='megawatthours'),\n",
       " Data(period='2023-06-28T20-04', respondent='MIDA', respondent_name='Mid-Atlantic', type='D', type_name='Demand', value=108625, value_units='megawatthours'),\n",
       " Data(period='2023-06-28T21-04', respondent='MIDA', respondent_name='Mid-Atlantic', type='D', type_name='Demand', value=105132, value_units='megawatthours'),\n",
       " Data(period='2023-06-28T22-04', respondent='MIDA', respondent_name='Mid-Atlantic', type='D', type_name='Demand', value=102014, value_units='megawatthours'),\n",
       " Data(period='2023-06-28T23-04', respondent='MIDA', respondent_name='Mid-Atlantic', type='D', type_name='Demand', value=96308, value_units='megawatthours'),\n",
       " Data(period='2023-06-29T00-04', respondent='MIDA', respondent_name='Mid-Atlantic', type='D', type_name='Demand', value=91131, value_units='megawatthours'),\n",
       " Data(period='2023-06-29T01-04', respondent='MIDA', respondent_name='Mid-Atlantic', type='D', type_name='Demand', value=86193, value_units='megawatthours'),\n",
       " Data(period='2023-06-29T02-04', respondent='MIDA', respondent_name='Mid-Atlantic', type='D', type_name='Demand', value=81851, value_units='megawatthours'),\n",
       " Data(period='2023-06-29T03-04', respondent='MIDA', respondent_name='Mid-Atlantic', type='D', type_name='Demand', value=78807, value_units='megawatthours'),\n",
       " Data(period='2023-06-29T04-04', respondent='MIDA', respondent_name='Mid-Atlantic', type='D', type_name='Demand', value=77012, value_units='megawatthours'),\n",
       " Data(period='2023-06-29T05-04', respondent='MIDA', respondent_name='Mid-Atlantic', type='D', type_name='Demand', value=76832, value_units='megawatthours'),\n",
       " Data(period='2023-06-29T06-04', respondent='MIDA', respondent_name='Mid-Atlantic', type='D', type_name='Demand', value=79004, value_units='megawatthours'),\n",
       " Data(period='2023-06-29T07-04', respondent='MIDA', respondent_name='Mid-Atlantic', type='D', type_name='Demand', value=82783, value_units='megawatthours'),\n",
       " Data(period='2023-06-29T08-04', respondent='MIDA', respondent_name='Mid-Atlantic', type='D', type_name='Demand', value=87167, value_units='megawatthours'),\n",
       " Data(period='2023-06-29T09-04', respondent='MIDA', respondent_name='Mid-Atlantic', type='D', type_name='Demand', value=90597, value_units='megawatthours'),\n",
       " Data(period='2023-06-29T10-04', respondent='MIDA', respondent_name='Mid-Atlantic', type='D', type_name='Demand', value=93920, value_units='megawatthours'),\n",
       " Data(period='2023-06-29T11-04', respondent='MIDA', respondent_name='Mid-Atlantic', type='D', type_name='Demand', value=98172, value_units='megawatthours'),\n",
       " Data(period='2023-06-29T12-04', respondent='MIDA', respondent_name='Mid-Atlantic', type='D', type_name='Demand', value=102816, value_units='megawatthours'),\n",
       " Data(period='2023-06-29T13-04', respondent='MIDA', respondent_name='Mid-Atlantic', type='D', type_name='Demand', value=107042, value_units='megawatthours'),\n",
       " Data(period='2023-06-29T14-04', respondent='MIDA', respondent_name='Mid-Atlantic', type='D', type_name='Demand', value=111716, value_units='megawatthours'),\n",
       " Data(period='2023-06-29T15-04', respondent='MIDA', respondent_name='Mid-Atlantic', type='D', type_name='Demand', value=115261, value_units='megawatthours'),\n",
       " Data(period='2023-06-29T16-04', respondent='MIDA', respondent_name='Mid-Atlantic', type='D', type_name='Demand', value=117748, value_units='megawatthours'),\n",
       " Data(period='2023-06-29T17-04', respondent='MIDA', respondent_name='Mid-Atlantic', type='D', type_name='Demand', value=119812, value_units='megawatthours'),\n",
       " Data(period='2023-06-29T18-04', respondent='MIDA', respondent_name='Mid-Atlantic', type='D', type_name='Demand', value=120248, value_units='megawatthours'),\n",
       " Data(period='2023-06-29T19-04', respondent='MIDA', respondent_name='Mid-Atlantic', type='D', type_name='Demand', value=118024, value_units='megawatthours'),\n",
       " Data(period='2023-06-29T20-04', respondent='MIDA', respondent_name='Mid-Atlantic', type='D', type_name='Demand', value=114337, value_units='megawatthours'),\n",
       " Data(period='2023-06-29T21-04', respondent='MIDA', respondent_name='Mid-Atlantic', type='D', type_name='Demand', value=110247, value_units='megawatthours'),\n",
       " Data(period='2023-06-29T22-04', respondent='MIDA', respondent_name='Mid-Atlantic', type='D', type_name='Demand', value=106851, value_units='megawatthours'),\n",
       " Data(period='2023-06-29T23-04', respondent='MIDA', respondent_name='Mid-Atlantic', type='D', type_name='Demand', value=100813, value_units='megawatthours'),\n",
       " Data(period='2023-06-30T00-04', respondent='MIDA', respondent_name='Mid-Atlantic', type='D', type_name='Demand', value=94853, value_units='megawatthours'),\n",
       " Data(period='2023-06-30T01-04', respondent='MIDA', respondent_name='Mid-Atlantic', type='D', type_name='Demand', value=89859, value_units='megawatthours'),\n",
       " Data(period='2023-06-30T02-04', respondent='MIDA', respondent_name='Mid-Atlantic', type='D', type_name='Demand', value=85892, value_units='megawatthours'),\n",
       " Data(period='2023-06-30T03-04', respondent='MIDA', respondent_name='Mid-Atlantic', type='D', type_name='Demand', value=82948, value_units='megawatthours'),\n",
       " Data(period='2023-06-30T04-04', respondent='MIDA', respondent_name='Mid-Atlantic', type='D', type_name='Demand', value=80873, value_units='megawatthours'),\n",
       " Data(period='2023-06-30T05-04', respondent='MIDA', respondent_name='Mid-Atlantic', type='D', type_name='Demand', value=80451, value_units='megawatthours'),\n",
       " Data(period='2023-06-30T06-04', respondent='MIDA', respondent_name='Mid-Atlantic', type='D', type_name='Demand', value=82245, value_units='megawatthours'),\n",
       " Data(period='2023-06-30T07-04', respondent='MIDA', respondent_name='Mid-Atlantic', type='D', type_name='Demand', value=85763, value_units='megawatthours'),\n",
       " Data(period='2023-06-30T08-04', respondent='MIDA', respondent_name='Mid-Atlantic', type='D', type_name='Demand', value=89426, value_units='megawatthours'),\n",
       " Data(period='2023-06-30T09-04', respondent='MIDA', respondent_name='Mid-Atlantic', type='D', type_name='Demand', value=93834, value_units='megawatthours'),\n",
       " Data(period='2023-06-30T10-04', respondent='MIDA', respondent_name='Mid-Atlantic', type='D', type_name='Demand', value=99213, value_units='megawatthours'),\n",
       " Data(period='2023-06-30T11-04', respondent='MIDA', respondent_name='Mid-Atlantic', type='D', type_name='Demand', value=104274, value_units='megawatthours'),\n",
       " Data(period='2023-06-30T12-04', respondent='MIDA', respondent_name='Mid-Atlantic', type='D', type_name='Demand', value=108890, value_units='megawatthours'),\n",
       " Data(period='2023-06-30T13-04', respondent='MIDA', respondent_name='Mid-Atlantic', type='D', type_name='Demand', value=113850, value_units='megawatthours'),\n",
       " Data(period='2023-06-30T14-04', respondent='MIDA', respondent_name='Mid-Atlantic', type='D', type_name='Demand', value=118286, value_units='megawatthours'),\n",
       " Data(period='2023-06-30T15-04', respondent='MIDA', respondent_name='Mid-Atlantic', type='D', type_name='Demand', value=120845, value_units='megawatthours'),\n",
       " Data(period='2023-06-30T16-04', respondent='MIDA', respondent_name='Mid-Atlantic', type='D', type_name='Demand', value=122243, value_units='megawatthours'),\n",
       " Data(period='2023-06-30T17-04', respondent='MIDA', respondent_name='Mid-Atlantic', type='D', type_name='Demand', value=123053, value_units='megawatthours'),\n",
       " Data(period='2023-06-30T18-04', respondent='MIDA', respondent_name='Mid-Atlantic', type='D', type_name='Demand', value=122806, value_units='megawatthours'),\n",
       " Data(period='2023-06-30T19-04', respondent='MIDA', respondent_name='Mid-Atlantic', type='D', type_name='Demand', value=120141, value_units='megawatthours'),\n",
       " Data(period='2023-06-30T20-04', respondent='MIDA', respondent_name='Mid-Atlantic', type='D', type_name='Demand', value=116132, value_units='megawatthours')]"
      ]
     },
     "execution_count": 13,
     "metadata": {},
     "output_type": "execute_result"
    }
   ],
   "source": [
    "demand_data = list(filter(lambda x: x.type == \"D\", data))\n",
    "demand_data"
   ]
  },
  {
   "cell_type": "code",
   "execution_count": 14,
   "id": "77f81270-0390-419a-b6b7-f86d50d73a91",
   "metadata": {},
   "outputs": [
    {
     "data": {
      "application/vnd.plotly.v1+json": {
       "config": {
        "plotlyServerURL": "https://plot.ly"
       },
       "data": [
        {
         "alignmentgroup": "True",
         "hovertemplate": "x=%{x}<br>y=%{y}<extra></extra>",
         "legendgroup": "",
         "marker": {
          "color": "#636efa",
          "pattern": {
           "shape": ""
          }
         },
         "name": "",
         "offsetgroup": "",
         "orientation": "v",
         "showlegend": false,
         "textposition": "auto",
         "type": "bar",
         "x": [
          "2023-06-23T20-04",
          "2023-06-23T21-04",
          "2023-06-23T22-04",
          "2023-06-23T23-04",
          "2023-06-24T00-04",
          "2023-06-24T01-04",
          "2023-06-24T02-04",
          "2023-06-24T03-04",
          "2023-06-24T04-04",
          "2023-06-24T05-04",
          "2023-06-24T06-04",
          "2023-06-24T07-04",
          "2023-06-24T08-04",
          "2023-06-24T09-04",
          "2023-06-24T10-04",
          "2023-06-24T11-04",
          "2023-06-24T12-04",
          "2023-06-24T13-04",
          "2023-06-24T14-04",
          "2023-06-24T15-04",
          "2023-06-24T16-04",
          "2023-06-24T17-04",
          "2023-06-24T18-04",
          "2023-06-24T19-04",
          "2023-06-24T20-04",
          "2023-06-24T21-04",
          "2023-06-24T22-04",
          "2023-06-24T23-04",
          "2023-06-25T00-04",
          "2023-06-25T01-04",
          "2023-06-25T02-04",
          "2023-06-25T03-04",
          "2023-06-25T04-04",
          "2023-06-25T05-04",
          "2023-06-25T06-04",
          "2023-06-25T07-04",
          "2023-06-25T08-04",
          "2023-06-25T09-04",
          "2023-06-25T10-04",
          "2023-06-25T11-04",
          "2023-06-25T12-04",
          "2023-06-25T13-04",
          "2023-06-25T14-04",
          "2023-06-25T15-04",
          "2023-06-25T16-04",
          "2023-06-25T17-04",
          "2023-06-25T18-04",
          "2023-06-25T19-04",
          "2023-06-25T20-04",
          "2023-06-25T21-04",
          "2023-06-25T22-04",
          "2023-06-25T23-04",
          "2023-06-26T00-04",
          "2023-06-26T01-04",
          "2023-06-26T02-04",
          "2023-06-26T03-04",
          "2023-06-26T04-04",
          "2023-06-26T05-04",
          "2023-06-26T06-04",
          "2023-06-26T07-04",
          "2023-06-26T08-04",
          "2023-06-26T09-04",
          "2023-06-26T10-04",
          "2023-06-26T11-04",
          "2023-06-26T12-04",
          "2023-06-26T13-04",
          "2023-06-26T14-04",
          "2023-06-26T15-04",
          "2023-06-26T16-04",
          "2023-06-26T17-04",
          "2023-06-26T18-04",
          "2023-06-26T19-04",
          "2023-06-26T20-04",
          "2023-06-26T21-04",
          "2023-06-26T22-04",
          "2023-06-26T23-04",
          "2023-06-27T00-04",
          "2023-06-27T01-04",
          "2023-06-27T02-04",
          "2023-06-27T03-04",
          "2023-06-27T04-04",
          "2023-06-27T05-04",
          "2023-06-27T06-04",
          "2023-06-27T07-04",
          "2023-06-27T08-04",
          "2023-06-27T09-04",
          "2023-06-27T10-04",
          "2023-06-27T11-04",
          "2023-06-27T12-04",
          "2023-06-27T13-04",
          "2023-06-27T14-04",
          "2023-06-27T15-04",
          "2023-06-27T16-04",
          "2023-06-27T17-04",
          "2023-06-27T18-04",
          "2023-06-27T19-04",
          "2023-06-27T20-04",
          "2023-06-27T21-04",
          "2023-06-27T22-04",
          "2023-06-27T23-04",
          "2023-06-28T00-04",
          "2023-06-28T01-04",
          "2023-06-28T02-04",
          "2023-06-28T03-04",
          "2023-06-28T04-04",
          "2023-06-28T05-04",
          "2023-06-28T06-04",
          "2023-06-28T07-04",
          "2023-06-28T08-04",
          "2023-06-28T09-04",
          "2023-06-28T10-04",
          "2023-06-28T11-04",
          "2023-06-28T12-04",
          "2023-06-28T13-04",
          "2023-06-28T14-04",
          "2023-06-28T15-04",
          "2023-06-28T16-04",
          "2023-06-28T17-04",
          "2023-06-28T18-04",
          "2023-06-28T19-04",
          "2023-06-28T20-04",
          "2023-06-28T21-04",
          "2023-06-28T22-04",
          "2023-06-28T23-04",
          "2023-06-29T00-04",
          "2023-06-29T01-04",
          "2023-06-29T02-04",
          "2023-06-29T03-04",
          "2023-06-29T04-04",
          "2023-06-29T05-04",
          "2023-06-29T06-04",
          "2023-06-29T07-04",
          "2023-06-29T08-04",
          "2023-06-29T09-04",
          "2023-06-29T10-04",
          "2023-06-29T11-04",
          "2023-06-29T12-04",
          "2023-06-29T13-04",
          "2023-06-29T14-04",
          "2023-06-29T15-04",
          "2023-06-29T16-04",
          "2023-06-29T17-04",
          "2023-06-29T18-04",
          "2023-06-29T19-04",
          "2023-06-29T20-04",
          "2023-06-29T21-04",
          "2023-06-29T22-04",
          "2023-06-29T23-04",
          "2023-06-30T00-04",
          "2023-06-30T01-04",
          "2023-06-30T02-04",
          "2023-06-30T03-04",
          "2023-06-30T04-04",
          "2023-06-30T05-04",
          "2023-06-30T06-04",
          "2023-06-30T07-04",
          "2023-06-30T08-04",
          "2023-06-30T09-04",
          "2023-06-30T10-04",
          "2023-06-30T11-04",
          "2023-06-30T12-04",
          "2023-06-30T13-04",
          "2023-06-30T14-04",
          "2023-06-30T15-04",
          "2023-06-30T16-04",
          "2023-06-30T17-04",
          "2023-06-30T18-04",
          "2023-06-30T19-04",
          "2023-06-30T20-04"
         ],
         "xaxis": "x",
         "y": [
          98464,
          96522,
          94688,
          90957,
          86713,
          82649,
          79436,
          77169,
          75551,
          74984,
          75244,
          75867,
          78663,
          82866,
          86214,
          90157,
          93593,
          97376,
          100701,
          103044,
          105686,
          107807,
          109610,
          109695,
          107514,
          103980,
          100948,
          96422,
          91759,
          87136,
          83112,
          79430,
          76903,
          75290,
          74390,
          74652,
          77787,
          83283,
          89548,
          94714,
          99547,
          104340,
          107942,
          109614,
          110843,
          112300,
          112980,
          111989,
          109649,
          106104,
          102860,
          97176,
          91527,
          87571,
          84565,
          81902,
          80329,
          80749,
          83238,
          87227,
          92705,
          97112,
          100417,
          103951,
          107768,
          111570,
          113952,
          114985,
          116139,
          116382,
          116740,
          115104,
          111578,
          107426,
          103914,
          97787,
          92058,
          87691,
          83623,
          80436,
          78646,
          78760,
          81002,
          84748,
          89219,
          92532,
          93747,
          95698,
          98527,
          101014,
          103606,
          105014,
          105440,
          105719,
          106321,
          105092,
          102385,
          99760,
          97074,
          91712,
          86560,
          82861,
          79481,
          76877,
          75486,
          75526,
          77918,
          81409,
          86283,
          90937,
          93530,
          95335,
          98185,
          101119,
          104253,
          107223,
          109274,
          110795,
          112247,
          111133,
          108625,
          105132,
          102014,
          96308,
          91131,
          86193,
          81851,
          78807,
          77012,
          76832,
          79004,
          82783,
          87167,
          90597,
          93920,
          98172,
          102816,
          107042,
          111716,
          115261,
          117748,
          119812,
          120248,
          118024,
          114337,
          110247,
          106851,
          100813,
          94853,
          89859,
          85892,
          82948,
          80873,
          80451,
          82245,
          85763,
          89426,
          93834,
          99213,
          104274,
          108890,
          113850,
          118286,
          120845,
          122243,
          123053,
          122806,
          120141,
          116132
         ],
         "yaxis": "y"
        }
       ],
       "layout": {
        "autosize": true,
        "barmode": "relative",
        "legend": {
         "tracegroupgap": 0
        },
        "margin": {
         "t": 60
        },
        "template": {
         "data": {
          "bar": [
           {
            "error_x": {
             "color": "#2a3f5f"
            },
            "error_y": {
             "color": "#2a3f5f"
            },
            "marker": {
             "line": {
              "color": "#E5ECF6",
              "width": 0.5
             },
             "pattern": {
              "fillmode": "overlay",
              "size": 10,
              "solidity": 0.2
             }
            },
            "type": "bar"
           }
          ],
          "barpolar": [
           {
            "marker": {
             "line": {
              "color": "#E5ECF6",
              "width": 0.5
             },
             "pattern": {
              "fillmode": "overlay",
              "size": 10,
              "solidity": 0.2
             }
            },
            "type": "barpolar"
           }
          ],
          "carpet": [
           {
            "aaxis": {
             "endlinecolor": "#2a3f5f",
             "gridcolor": "white",
             "linecolor": "white",
             "minorgridcolor": "white",
             "startlinecolor": "#2a3f5f"
            },
            "baxis": {
             "endlinecolor": "#2a3f5f",
             "gridcolor": "white",
             "linecolor": "white",
             "minorgridcolor": "white",
             "startlinecolor": "#2a3f5f"
            },
            "type": "carpet"
           }
          ],
          "choropleth": [
           {
            "colorbar": {
             "outlinewidth": 0,
             "ticks": ""
            },
            "type": "choropleth"
           }
          ],
          "contour": [
           {
            "colorbar": {
             "outlinewidth": 0,
             "ticks": ""
            },
            "colorscale": [
             [
              0,
              "#0d0887"
             ],
             [
              0.1111111111111111,
              "#46039f"
             ],
             [
              0.2222222222222222,
              "#7201a8"
             ],
             [
              0.3333333333333333,
              "#9c179e"
             ],
             [
              0.4444444444444444,
              "#bd3786"
             ],
             [
              0.5555555555555556,
              "#d8576b"
             ],
             [
              0.6666666666666666,
              "#ed7953"
             ],
             [
              0.7777777777777778,
              "#fb9f3a"
             ],
             [
              0.8888888888888888,
              "#fdca26"
             ],
             [
              1,
              "#f0f921"
             ]
            ],
            "type": "contour"
           }
          ],
          "contourcarpet": [
           {
            "colorbar": {
             "outlinewidth": 0,
             "ticks": ""
            },
            "type": "contourcarpet"
           }
          ],
          "heatmap": [
           {
            "colorbar": {
             "outlinewidth": 0,
             "ticks": ""
            },
            "colorscale": [
             [
              0,
              "#0d0887"
             ],
             [
              0.1111111111111111,
              "#46039f"
             ],
             [
              0.2222222222222222,
              "#7201a8"
             ],
             [
              0.3333333333333333,
              "#9c179e"
             ],
             [
              0.4444444444444444,
              "#bd3786"
             ],
             [
              0.5555555555555556,
              "#d8576b"
             ],
             [
              0.6666666666666666,
              "#ed7953"
             ],
             [
              0.7777777777777778,
              "#fb9f3a"
             ],
             [
              0.8888888888888888,
              "#fdca26"
             ],
             [
              1,
              "#f0f921"
             ]
            ],
            "type": "heatmap"
           }
          ],
          "heatmapgl": [
           {
            "colorbar": {
             "outlinewidth": 0,
             "ticks": ""
            },
            "colorscale": [
             [
              0,
              "#0d0887"
             ],
             [
              0.1111111111111111,
              "#46039f"
             ],
             [
              0.2222222222222222,
              "#7201a8"
             ],
             [
              0.3333333333333333,
              "#9c179e"
             ],
             [
              0.4444444444444444,
              "#bd3786"
             ],
             [
              0.5555555555555556,
              "#d8576b"
             ],
             [
              0.6666666666666666,
              "#ed7953"
             ],
             [
              0.7777777777777778,
              "#fb9f3a"
             ],
             [
              0.8888888888888888,
              "#fdca26"
             ],
             [
              1,
              "#f0f921"
             ]
            ],
            "type": "heatmapgl"
           }
          ],
          "histogram": [
           {
            "marker": {
             "pattern": {
              "fillmode": "overlay",
              "size": 10,
              "solidity": 0.2
             }
            },
            "type": "histogram"
           }
          ],
          "histogram2d": [
           {
            "colorbar": {
             "outlinewidth": 0,
             "ticks": ""
            },
            "colorscale": [
             [
              0,
              "#0d0887"
             ],
             [
              0.1111111111111111,
              "#46039f"
             ],
             [
              0.2222222222222222,
              "#7201a8"
             ],
             [
              0.3333333333333333,
              "#9c179e"
             ],
             [
              0.4444444444444444,
              "#bd3786"
             ],
             [
              0.5555555555555556,
              "#d8576b"
             ],
             [
              0.6666666666666666,
              "#ed7953"
             ],
             [
              0.7777777777777778,
              "#fb9f3a"
             ],
             [
              0.8888888888888888,
              "#fdca26"
             ],
             [
              1,
              "#f0f921"
             ]
            ],
            "type": "histogram2d"
           }
          ],
          "histogram2dcontour": [
           {
            "colorbar": {
             "outlinewidth": 0,
             "ticks": ""
            },
            "colorscale": [
             [
              0,
              "#0d0887"
             ],
             [
              0.1111111111111111,
              "#46039f"
             ],
             [
              0.2222222222222222,
              "#7201a8"
             ],
             [
              0.3333333333333333,
              "#9c179e"
             ],
             [
              0.4444444444444444,
              "#bd3786"
             ],
             [
              0.5555555555555556,
              "#d8576b"
             ],
             [
              0.6666666666666666,
              "#ed7953"
             ],
             [
              0.7777777777777778,
              "#fb9f3a"
             ],
             [
              0.8888888888888888,
              "#fdca26"
             ],
             [
              1,
              "#f0f921"
             ]
            ],
            "type": "histogram2dcontour"
           }
          ],
          "mesh3d": [
           {
            "colorbar": {
             "outlinewidth": 0,
             "ticks": ""
            },
            "type": "mesh3d"
           }
          ],
          "parcoords": [
           {
            "line": {
             "colorbar": {
              "outlinewidth": 0,
              "ticks": ""
             }
            },
            "type": "parcoords"
           }
          ],
          "pie": [
           {
            "automargin": true,
            "type": "pie"
           }
          ],
          "scatter": [
           {
            "fillpattern": {
             "fillmode": "overlay",
             "size": 10,
             "solidity": 0.2
            },
            "type": "scatter"
           }
          ],
          "scatter3d": [
           {
            "line": {
             "colorbar": {
              "outlinewidth": 0,
              "ticks": ""
             }
            },
            "marker": {
             "colorbar": {
              "outlinewidth": 0,
              "ticks": ""
             }
            },
            "type": "scatter3d"
           }
          ],
          "scattercarpet": [
           {
            "marker": {
             "colorbar": {
              "outlinewidth": 0,
              "ticks": ""
             }
            },
            "type": "scattercarpet"
           }
          ],
          "scattergeo": [
           {
            "marker": {
             "colorbar": {
              "outlinewidth": 0,
              "ticks": ""
             }
            },
            "type": "scattergeo"
           }
          ],
          "scattergl": [
           {
            "marker": {
             "colorbar": {
              "outlinewidth": 0,
              "ticks": ""
             }
            },
            "type": "scattergl"
           }
          ],
          "scattermapbox": [
           {
            "marker": {
             "colorbar": {
              "outlinewidth": 0,
              "ticks": ""
             }
            },
            "type": "scattermapbox"
           }
          ],
          "scatterpolar": [
           {
            "marker": {
             "colorbar": {
              "outlinewidth": 0,
              "ticks": ""
             }
            },
            "type": "scatterpolar"
           }
          ],
          "scatterpolargl": [
           {
            "marker": {
             "colorbar": {
              "outlinewidth": 0,
              "ticks": ""
             }
            },
            "type": "scatterpolargl"
           }
          ],
          "scatterternary": [
           {
            "marker": {
             "colorbar": {
              "outlinewidth": 0,
              "ticks": ""
             }
            },
            "type": "scatterternary"
           }
          ],
          "surface": [
           {
            "colorbar": {
             "outlinewidth": 0,
             "ticks": ""
            },
            "colorscale": [
             [
              0,
              "#0d0887"
             ],
             [
              0.1111111111111111,
              "#46039f"
             ],
             [
              0.2222222222222222,
              "#7201a8"
             ],
             [
              0.3333333333333333,
              "#9c179e"
             ],
             [
              0.4444444444444444,
              "#bd3786"
             ],
             [
              0.5555555555555556,
              "#d8576b"
             ],
             [
              0.6666666666666666,
              "#ed7953"
             ],
             [
              0.7777777777777778,
              "#fb9f3a"
             ],
             [
              0.8888888888888888,
              "#fdca26"
             ],
             [
              1,
              "#f0f921"
             ]
            ],
            "type": "surface"
           }
          ],
          "table": [
           {
            "cells": {
             "fill": {
              "color": "#EBF0F8"
             },
             "line": {
              "color": "white"
             }
            },
            "header": {
             "fill": {
              "color": "#C8D4E3"
             },
             "line": {
              "color": "white"
             }
            },
            "type": "table"
           }
          ]
         },
         "layout": {
          "annotationdefaults": {
           "arrowcolor": "#2a3f5f",
           "arrowhead": 0,
           "arrowwidth": 1
          },
          "autotypenumbers": "strict",
          "coloraxis": {
           "colorbar": {
            "outlinewidth": 0,
            "ticks": ""
           }
          },
          "colorscale": {
           "diverging": [
            [
             0,
             "#8e0152"
            ],
            [
             0.1,
             "#c51b7d"
            ],
            [
             0.2,
             "#de77ae"
            ],
            [
             0.3,
             "#f1b6da"
            ],
            [
             0.4,
             "#fde0ef"
            ],
            [
             0.5,
             "#f7f7f7"
            ],
            [
             0.6,
             "#e6f5d0"
            ],
            [
             0.7,
             "#b8e186"
            ],
            [
             0.8,
             "#7fbc41"
            ],
            [
             0.9,
             "#4d9221"
            ],
            [
             1,
             "#276419"
            ]
           ],
           "sequential": [
            [
             0,
             "#0d0887"
            ],
            [
             0.1111111111111111,
             "#46039f"
            ],
            [
             0.2222222222222222,
             "#7201a8"
            ],
            [
             0.3333333333333333,
             "#9c179e"
            ],
            [
             0.4444444444444444,
             "#bd3786"
            ],
            [
             0.5555555555555556,
             "#d8576b"
            ],
            [
             0.6666666666666666,
             "#ed7953"
            ],
            [
             0.7777777777777778,
             "#fb9f3a"
            ],
            [
             0.8888888888888888,
             "#fdca26"
            ],
            [
             1,
             "#f0f921"
            ]
           ],
           "sequentialminus": [
            [
             0,
             "#0d0887"
            ],
            [
             0.1111111111111111,
             "#46039f"
            ],
            [
             0.2222222222222222,
             "#7201a8"
            ],
            [
             0.3333333333333333,
             "#9c179e"
            ],
            [
             0.4444444444444444,
             "#bd3786"
            ],
            [
             0.5555555555555556,
             "#d8576b"
            ],
            [
             0.6666666666666666,
             "#ed7953"
            ],
            [
             0.7777777777777778,
             "#fb9f3a"
            ],
            [
             0.8888888888888888,
             "#fdca26"
            ],
            [
             1,
             "#f0f921"
            ]
           ]
          },
          "colorway": [
           "#636efa",
           "#EF553B",
           "#00cc96",
           "#ab63fa",
           "#FFA15A",
           "#19d3f3",
           "#FF6692",
           "#B6E880",
           "#FF97FF",
           "#FECB52"
          ],
          "font": {
           "color": "#2a3f5f"
          },
          "geo": {
           "bgcolor": "white",
           "lakecolor": "white",
           "landcolor": "#E5ECF6",
           "showlakes": true,
           "showland": true,
           "subunitcolor": "white"
          },
          "hoverlabel": {
           "align": "left"
          },
          "hovermode": "closest",
          "mapbox": {
           "style": "light"
          },
          "paper_bgcolor": "white",
          "plot_bgcolor": "#E5ECF6",
          "polar": {
           "angularaxis": {
            "gridcolor": "white",
            "linecolor": "white",
            "ticks": ""
           },
           "bgcolor": "#E5ECF6",
           "radialaxis": {
            "gridcolor": "white",
            "linecolor": "white",
            "ticks": ""
           }
          },
          "scene": {
           "xaxis": {
            "backgroundcolor": "#E5ECF6",
            "gridcolor": "white",
            "gridwidth": 2,
            "linecolor": "white",
            "showbackground": true,
            "ticks": "",
            "zerolinecolor": "white"
           },
           "yaxis": {
            "backgroundcolor": "#E5ECF6",
            "gridcolor": "white",
            "gridwidth": 2,
            "linecolor": "white",
            "showbackground": true,
            "ticks": "",
            "zerolinecolor": "white"
           },
           "zaxis": {
            "backgroundcolor": "#E5ECF6",
            "gridcolor": "white",
            "gridwidth": 2,
            "linecolor": "white",
            "showbackground": true,
            "ticks": "",
            "zerolinecolor": "white"
           }
          },
          "shapedefaults": {
           "line": {
            "color": "#2a3f5f"
           }
          },
          "ternary": {
           "aaxis": {
            "gridcolor": "white",
            "linecolor": "white",
            "ticks": ""
           },
           "baxis": {
            "gridcolor": "white",
            "linecolor": "white",
            "ticks": ""
           },
           "bgcolor": "#E5ECF6",
           "caxis": {
            "gridcolor": "white",
            "linecolor": "white",
            "ticks": ""
           }
          },
          "title": {
           "x": 0.05
          },
          "xaxis": {
           "automargin": true,
           "gridcolor": "white",
           "linecolor": "white",
           "ticks": "",
           "title": {
            "standoff": 15
           },
           "zerolinecolor": "white",
           "zerolinewidth": 2
          },
          "yaxis": {
           "automargin": true,
           "gridcolor": "white",
           "linecolor": "white",
           "ticks": "",
           "title": {
            "standoff": 15
           },
           "zerolinecolor": "white",
           "zerolinewidth": 2
          }
         }
        },
        "xaxis": {
         "anchor": "y",
         "autorange": true,
         "domain": [
          0,
          1
         ],
         "range": [
          -0.5,
          168.5
         ],
         "title": {
          "text": "x"
         },
         "type": "category"
        },
        "yaxis": {
         "anchor": "x",
         "autorange": true,
         "domain": [
          0,
          1
         ],
         "range": [
          0,
          129529.47368421053
         ],
         "title": {
          "text": "y"
         },
         "type": "linear"
        }
       }
      },
      "text/html": [
       "<div>                            <div id=\"0f570417-c5a7-42c4-8e85-42eb91c3a03d\" class=\"plotly-graph-div\" style=\"height:525px; width:100%;\"></div>            <script type=\"text/javascript\">                require([\"plotly\"], function(Plotly) {                    window.PLOTLYENV=window.PLOTLYENV || {};                                    if (document.getElementById(\"0f570417-c5a7-42c4-8e85-42eb91c3a03d\")) {                    Plotly.newPlot(                        \"0f570417-c5a7-42c4-8e85-42eb91c3a03d\",                        [{\"alignmentgroup\":\"True\",\"hovertemplate\":\"x=%{x}\\u003cbr\\u003ey=%{y}\\u003cextra\\u003e\\u003c\\u002fextra\\u003e\",\"legendgroup\":\"\",\"marker\":{\"color\":\"#636efa\",\"pattern\":{\"shape\":\"\"}},\"name\":\"\",\"offsetgroup\":\"\",\"orientation\":\"v\",\"showlegend\":false,\"textposition\":\"auto\",\"x\":[\"2023-06-23T20-04\",\"2023-06-23T21-04\",\"2023-06-23T22-04\",\"2023-06-23T23-04\",\"2023-06-24T00-04\",\"2023-06-24T01-04\",\"2023-06-24T02-04\",\"2023-06-24T03-04\",\"2023-06-24T04-04\",\"2023-06-24T05-04\",\"2023-06-24T06-04\",\"2023-06-24T07-04\",\"2023-06-24T08-04\",\"2023-06-24T09-04\",\"2023-06-24T10-04\",\"2023-06-24T11-04\",\"2023-06-24T12-04\",\"2023-06-24T13-04\",\"2023-06-24T14-04\",\"2023-06-24T15-04\",\"2023-06-24T16-04\",\"2023-06-24T17-04\",\"2023-06-24T18-04\",\"2023-06-24T19-04\",\"2023-06-24T20-04\",\"2023-06-24T21-04\",\"2023-06-24T22-04\",\"2023-06-24T23-04\",\"2023-06-25T00-04\",\"2023-06-25T01-04\",\"2023-06-25T02-04\",\"2023-06-25T03-04\",\"2023-06-25T04-04\",\"2023-06-25T05-04\",\"2023-06-25T06-04\",\"2023-06-25T07-04\",\"2023-06-25T08-04\",\"2023-06-25T09-04\",\"2023-06-25T10-04\",\"2023-06-25T11-04\",\"2023-06-25T12-04\",\"2023-06-25T13-04\",\"2023-06-25T14-04\",\"2023-06-25T15-04\",\"2023-06-25T16-04\",\"2023-06-25T17-04\",\"2023-06-25T18-04\",\"2023-06-25T19-04\",\"2023-06-25T20-04\",\"2023-06-25T21-04\",\"2023-06-25T22-04\",\"2023-06-25T23-04\",\"2023-06-26T00-04\",\"2023-06-26T01-04\",\"2023-06-26T02-04\",\"2023-06-26T03-04\",\"2023-06-26T04-04\",\"2023-06-26T05-04\",\"2023-06-26T06-04\",\"2023-06-26T07-04\",\"2023-06-26T08-04\",\"2023-06-26T09-04\",\"2023-06-26T10-04\",\"2023-06-26T11-04\",\"2023-06-26T12-04\",\"2023-06-26T13-04\",\"2023-06-26T14-04\",\"2023-06-26T15-04\",\"2023-06-26T16-04\",\"2023-06-26T17-04\",\"2023-06-26T18-04\",\"2023-06-26T19-04\",\"2023-06-26T20-04\",\"2023-06-26T21-04\",\"2023-06-26T22-04\",\"2023-06-26T23-04\",\"2023-06-27T00-04\",\"2023-06-27T01-04\",\"2023-06-27T02-04\",\"2023-06-27T03-04\",\"2023-06-27T04-04\",\"2023-06-27T05-04\",\"2023-06-27T06-04\",\"2023-06-27T07-04\",\"2023-06-27T08-04\",\"2023-06-27T09-04\",\"2023-06-27T10-04\",\"2023-06-27T11-04\",\"2023-06-27T12-04\",\"2023-06-27T13-04\",\"2023-06-27T14-04\",\"2023-06-27T15-04\",\"2023-06-27T16-04\",\"2023-06-27T17-04\",\"2023-06-27T18-04\",\"2023-06-27T19-04\",\"2023-06-27T20-04\",\"2023-06-27T21-04\",\"2023-06-27T22-04\",\"2023-06-27T23-04\",\"2023-06-28T00-04\",\"2023-06-28T01-04\",\"2023-06-28T02-04\",\"2023-06-28T03-04\",\"2023-06-28T04-04\",\"2023-06-28T05-04\",\"2023-06-28T06-04\",\"2023-06-28T07-04\",\"2023-06-28T08-04\",\"2023-06-28T09-04\",\"2023-06-28T10-04\",\"2023-06-28T11-04\",\"2023-06-28T12-04\",\"2023-06-28T13-04\",\"2023-06-28T14-04\",\"2023-06-28T15-04\",\"2023-06-28T16-04\",\"2023-06-28T17-04\",\"2023-06-28T18-04\",\"2023-06-28T19-04\",\"2023-06-28T20-04\",\"2023-06-28T21-04\",\"2023-06-28T22-04\",\"2023-06-28T23-04\",\"2023-06-29T00-04\",\"2023-06-29T01-04\",\"2023-06-29T02-04\",\"2023-06-29T03-04\",\"2023-06-29T04-04\",\"2023-06-29T05-04\",\"2023-06-29T06-04\",\"2023-06-29T07-04\",\"2023-06-29T08-04\",\"2023-06-29T09-04\",\"2023-06-29T10-04\",\"2023-06-29T11-04\",\"2023-06-29T12-04\",\"2023-06-29T13-04\",\"2023-06-29T14-04\",\"2023-06-29T15-04\",\"2023-06-29T16-04\",\"2023-06-29T17-04\",\"2023-06-29T18-04\",\"2023-06-29T19-04\",\"2023-06-29T20-04\",\"2023-06-29T21-04\",\"2023-06-29T22-04\",\"2023-06-29T23-04\",\"2023-06-30T00-04\",\"2023-06-30T01-04\",\"2023-06-30T02-04\",\"2023-06-30T03-04\",\"2023-06-30T04-04\",\"2023-06-30T05-04\",\"2023-06-30T06-04\",\"2023-06-30T07-04\",\"2023-06-30T08-04\",\"2023-06-30T09-04\",\"2023-06-30T10-04\",\"2023-06-30T11-04\",\"2023-06-30T12-04\",\"2023-06-30T13-04\",\"2023-06-30T14-04\",\"2023-06-30T15-04\",\"2023-06-30T16-04\",\"2023-06-30T17-04\",\"2023-06-30T18-04\",\"2023-06-30T19-04\",\"2023-06-30T20-04\"],\"xaxis\":\"x\",\"y\":[98464,96522,94688,90957,86713,82649,79436,77169,75551,74984,75244,75867,78663,82866,86214,90157,93593,97376,100701,103044,105686,107807,109610,109695,107514,103980,100948,96422,91759,87136,83112,79430,76903,75290,74390,74652,77787,83283,89548,94714,99547,104340,107942,109614,110843,112300,112980,111989,109649,106104,102860,97176,91527,87571,84565,81902,80329,80749,83238,87227,92705,97112,100417,103951,107768,111570,113952,114985,116139,116382,116740,115104,111578,107426,103914,97787,92058,87691,83623,80436,78646,78760,81002,84748,89219,92532,93747,95698,98527,101014,103606,105014,105440,105719,106321,105092,102385,99760,97074,91712,86560,82861,79481,76877,75486,75526,77918,81409,86283,90937,93530,95335,98185,101119,104253,107223,109274,110795,112247,111133,108625,105132,102014,96308,91131,86193,81851,78807,77012,76832,79004,82783,87167,90597,93920,98172,102816,107042,111716,115261,117748,119812,120248,118024,114337,110247,106851,100813,94853,89859,85892,82948,80873,80451,82245,85763,89426,93834,99213,104274,108890,113850,118286,120845,122243,123053,122806,120141,116132],\"yaxis\":\"y\",\"type\":\"bar\"}],                        {\"template\":{\"data\":{\"histogram2dcontour\":[{\"type\":\"histogram2dcontour\",\"colorbar\":{\"outlinewidth\":0,\"ticks\":\"\"},\"colorscale\":[[0.0,\"#0d0887\"],[0.1111111111111111,\"#46039f\"],[0.2222222222222222,\"#7201a8\"],[0.3333333333333333,\"#9c179e\"],[0.4444444444444444,\"#bd3786\"],[0.5555555555555556,\"#d8576b\"],[0.6666666666666666,\"#ed7953\"],[0.7777777777777778,\"#fb9f3a\"],[0.8888888888888888,\"#fdca26\"],[1.0,\"#f0f921\"]]}],\"choropleth\":[{\"type\":\"choropleth\",\"colorbar\":{\"outlinewidth\":0,\"ticks\":\"\"}}],\"histogram2d\":[{\"type\":\"histogram2d\",\"colorbar\":{\"outlinewidth\":0,\"ticks\":\"\"},\"colorscale\":[[0.0,\"#0d0887\"],[0.1111111111111111,\"#46039f\"],[0.2222222222222222,\"#7201a8\"],[0.3333333333333333,\"#9c179e\"],[0.4444444444444444,\"#bd3786\"],[0.5555555555555556,\"#d8576b\"],[0.6666666666666666,\"#ed7953\"],[0.7777777777777778,\"#fb9f3a\"],[0.8888888888888888,\"#fdca26\"],[1.0,\"#f0f921\"]]}],\"heatmap\":[{\"type\":\"heatmap\",\"colorbar\":{\"outlinewidth\":0,\"ticks\":\"\"},\"colorscale\":[[0.0,\"#0d0887\"],[0.1111111111111111,\"#46039f\"],[0.2222222222222222,\"#7201a8\"],[0.3333333333333333,\"#9c179e\"],[0.4444444444444444,\"#bd3786\"],[0.5555555555555556,\"#d8576b\"],[0.6666666666666666,\"#ed7953\"],[0.7777777777777778,\"#fb9f3a\"],[0.8888888888888888,\"#fdca26\"],[1.0,\"#f0f921\"]]}],\"heatmapgl\":[{\"type\":\"heatmapgl\",\"colorbar\":{\"outlinewidth\":0,\"ticks\":\"\"},\"colorscale\":[[0.0,\"#0d0887\"],[0.1111111111111111,\"#46039f\"],[0.2222222222222222,\"#7201a8\"],[0.3333333333333333,\"#9c179e\"],[0.4444444444444444,\"#bd3786\"],[0.5555555555555556,\"#d8576b\"],[0.6666666666666666,\"#ed7953\"],[0.7777777777777778,\"#fb9f3a\"],[0.8888888888888888,\"#fdca26\"],[1.0,\"#f0f921\"]]}],\"contourcarpet\":[{\"type\":\"contourcarpet\",\"colorbar\":{\"outlinewidth\":0,\"ticks\":\"\"}}],\"contour\":[{\"type\":\"contour\",\"colorbar\":{\"outlinewidth\":0,\"ticks\":\"\"},\"colorscale\":[[0.0,\"#0d0887\"],[0.1111111111111111,\"#46039f\"],[0.2222222222222222,\"#7201a8\"],[0.3333333333333333,\"#9c179e\"],[0.4444444444444444,\"#bd3786\"],[0.5555555555555556,\"#d8576b\"],[0.6666666666666666,\"#ed7953\"],[0.7777777777777778,\"#fb9f3a\"],[0.8888888888888888,\"#fdca26\"],[1.0,\"#f0f921\"]]}],\"surface\":[{\"type\":\"surface\",\"colorbar\":{\"outlinewidth\":0,\"ticks\":\"\"},\"colorscale\":[[0.0,\"#0d0887\"],[0.1111111111111111,\"#46039f\"],[0.2222222222222222,\"#7201a8\"],[0.3333333333333333,\"#9c179e\"],[0.4444444444444444,\"#bd3786\"],[0.5555555555555556,\"#d8576b\"],[0.6666666666666666,\"#ed7953\"],[0.7777777777777778,\"#fb9f3a\"],[0.8888888888888888,\"#fdca26\"],[1.0,\"#f0f921\"]]}],\"mesh3d\":[{\"type\":\"mesh3d\",\"colorbar\":{\"outlinewidth\":0,\"ticks\":\"\"}}],\"scatter\":[{\"fillpattern\":{\"fillmode\":\"overlay\",\"size\":10,\"solidity\":0.2},\"type\":\"scatter\"}],\"parcoords\":[{\"type\":\"parcoords\",\"line\":{\"colorbar\":{\"outlinewidth\":0,\"ticks\":\"\"}}}],\"scatterpolargl\":[{\"type\":\"scatterpolargl\",\"marker\":{\"colorbar\":{\"outlinewidth\":0,\"ticks\":\"\"}}}],\"bar\":[{\"error_x\":{\"color\":\"#2a3f5f\"},\"error_y\":{\"color\":\"#2a3f5f\"},\"marker\":{\"line\":{\"color\":\"#E5ECF6\",\"width\":0.5},\"pattern\":{\"fillmode\":\"overlay\",\"size\":10,\"solidity\":0.2}},\"type\":\"bar\"}],\"scattergeo\":[{\"type\":\"scattergeo\",\"marker\":{\"colorbar\":{\"outlinewidth\":0,\"ticks\":\"\"}}}],\"scatterpolar\":[{\"type\":\"scatterpolar\",\"marker\":{\"colorbar\":{\"outlinewidth\":0,\"ticks\":\"\"}}}],\"histogram\":[{\"marker\":{\"pattern\":{\"fillmode\":\"overlay\",\"size\":10,\"solidity\":0.2}},\"type\":\"histogram\"}],\"scattergl\":[{\"type\":\"scattergl\",\"marker\":{\"colorbar\":{\"outlinewidth\":0,\"ticks\":\"\"}}}],\"scatter3d\":[{\"type\":\"scatter3d\",\"line\":{\"colorbar\":{\"outlinewidth\":0,\"ticks\":\"\"}},\"marker\":{\"colorbar\":{\"outlinewidth\":0,\"ticks\":\"\"}}}],\"scattermapbox\":[{\"type\":\"scattermapbox\",\"marker\":{\"colorbar\":{\"outlinewidth\":0,\"ticks\":\"\"}}}],\"scatterternary\":[{\"type\":\"scatterternary\",\"marker\":{\"colorbar\":{\"outlinewidth\":0,\"ticks\":\"\"}}}],\"scattercarpet\":[{\"type\":\"scattercarpet\",\"marker\":{\"colorbar\":{\"outlinewidth\":0,\"ticks\":\"\"}}}],\"carpet\":[{\"aaxis\":{\"endlinecolor\":\"#2a3f5f\",\"gridcolor\":\"white\",\"linecolor\":\"white\",\"minorgridcolor\":\"white\",\"startlinecolor\":\"#2a3f5f\"},\"baxis\":{\"endlinecolor\":\"#2a3f5f\",\"gridcolor\":\"white\",\"linecolor\":\"white\",\"minorgridcolor\":\"white\",\"startlinecolor\":\"#2a3f5f\"},\"type\":\"carpet\"}],\"table\":[{\"cells\":{\"fill\":{\"color\":\"#EBF0F8\"},\"line\":{\"color\":\"white\"}},\"header\":{\"fill\":{\"color\":\"#C8D4E3\"},\"line\":{\"color\":\"white\"}},\"type\":\"table\"}],\"barpolar\":[{\"marker\":{\"line\":{\"color\":\"#E5ECF6\",\"width\":0.5},\"pattern\":{\"fillmode\":\"overlay\",\"size\":10,\"solidity\":0.2}},\"type\":\"barpolar\"}],\"pie\":[{\"automargin\":true,\"type\":\"pie\"}]},\"layout\":{\"autotypenumbers\":\"strict\",\"colorway\":[\"#636efa\",\"#EF553B\",\"#00cc96\",\"#ab63fa\",\"#FFA15A\",\"#19d3f3\",\"#FF6692\",\"#B6E880\",\"#FF97FF\",\"#FECB52\"],\"font\":{\"color\":\"#2a3f5f\"},\"hovermode\":\"closest\",\"hoverlabel\":{\"align\":\"left\"},\"paper_bgcolor\":\"white\",\"plot_bgcolor\":\"#E5ECF6\",\"polar\":{\"bgcolor\":\"#E5ECF6\",\"angularaxis\":{\"gridcolor\":\"white\",\"linecolor\":\"white\",\"ticks\":\"\"},\"radialaxis\":{\"gridcolor\":\"white\",\"linecolor\":\"white\",\"ticks\":\"\"}},\"ternary\":{\"bgcolor\":\"#E5ECF6\",\"aaxis\":{\"gridcolor\":\"white\",\"linecolor\":\"white\",\"ticks\":\"\"},\"baxis\":{\"gridcolor\":\"white\",\"linecolor\":\"white\",\"ticks\":\"\"},\"caxis\":{\"gridcolor\":\"white\",\"linecolor\":\"white\",\"ticks\":\"\"}},\"coloraxis\":{\"colorbar\":{\"outlinewidth\":0,\"ticks\":\"\"}},\"colorscale\":{\"sequential\":[[0.0,\"#0d0887\"],[0.1111111111111111,\"#46039f\"],[0.2222222222222222,\"#7201a8\"],[0.3333333333333333,\"#9c179e\"],[0.4444444444444444,\"#bd3786\"],[0.5555555555555556,\"#d8576b\"],[0.6666666666666666,\"#ed7953\"],[0.7777777777777778,\"#fb9f3a\"],[0.8888888888888888,\"#fdca26\"],[1.0,\"#f0f921\"]],\"sequentialminus\":[[0.0,\"#0d0887\"],[0.1111111111111111,\"#46039f\"],[0.2222222222222222,\"#7201a8\"],[0.3333333333333333,\"#9c179e\"],[0.4444444444444444,\"#bd3786\"],[0.5555555555555556,\"#d8576b\"],[0.6666666666666666,\"#ed7953\"],[0.7777777777777778,\"#fb9f3a\"],[0.8888888888888888,\"#fdca26\"],[1.0,\"#f0f921\"]],\"diverging\":[[0,\"#8e0152\"],[0.1,\"#c51b7d\"],[0.2,\"#de77ae\"],[0.3,\"#f1b6da\"],[0.4,\"#fde0ef\"],[0.5,\"#f7f7f7\"],[0.6,\"#e6f5d0\"],[0.7,\"#b8e186\"],[0.8,\"#7fbc41\"],[0.9,\"#4d9221\"],[1,\"#276419\"]]},\"xaxis\":{\"gridcolor\":\"white\",\"linecolor\":\"white\",\"ticks\":\"\",\"title\":{\"standoff\":15},\"zerolinecolor\":\"white\",\"automargin\":true,\"zerolinewidth\":2},\"yaxis\":{\"gridcolor\":\"white\",\"linecolor\":\"white\",\"ticks\":\"\",\"title\":{\"standoff\":15},\"zerolinecolor\":\"white\",\"automargin\":true,\"zerolinewidth\":2},\"scene\":{\"xaxis\":{\"backgroundcolor\":\"#E5ECF6\",\"gridcolor\":\"white\",\"linecolor\":\"white\",\"showbackground\":true,\"ticks\":\"\",\"zerolinecolor\":\"white\",\"gridwidth\":2},\"yaxis\":{\"backgroundcolor\":\"#E5ECF6\",\"gridcolor\":\"white\",\"linecolor\":\"white\",\"showbackground\":true,\"ticks\":\"\",\"zerolinecolor\":\"white\",\"gridwidth\":2},\"zaxis\":{\"backgroundcolor\":\"#E5ECF6\",\"gridcolor\":\"white\",\"linecolor\":\"white\",\"showbackground\":true,\"ticks\":\"\",\"zerolinecolor\":\"white\",\"gridwidth\":2}},\"shapedefaults\":{\"line\":{\"color\":\"#2a3f5f\"}},\"annotationdefaults\":{\"arrowcolor\":\"#2a3f5f\",\"arrowhead\":0,\"arrowwidth\":1},\"geo\":{\"bgcolor\":\"white\",\"landcolor\":\"#E5ECF6\",\"subunitcolor\":\"white\",\"showland\":true,\"showlakes\":true,\"lakecolor\":\"white\"},\"title\":{\"x\":0.05},\"mapbox\":{\"style\":\"light\"}}},\"xaxis\":{\"anchor\":\"y\",\"domain\":[0.0,1.0],\"title\":{\"text\":\"x\"}},\"yaxis\":{\"anchor\":\"x\",\"domain\":[0.0,1.0],\"title\":{\"text\":\"y\"}},\"legend\":{\"tracegroupgap\":0},\"margin\":{\"t\":60},\"barmode\":\"relative\"},                        {\"responsive\": true}                    ).then(function(){\n",
       "                            \n",
       "var gd = document.getElementById('0f570417-c5a7-42c4-8e85-42eb91c3a03d');\n",
       "var x = new MutationObserver(function (mutations, observer) {{\n",
       "        var display = window.getComputedStyle(gd).display;\n",
       "        if (!display || display === 'none') {{\n",
       "            console.log([gd, 'removed!']);\n",
       "            Plotly.purge(gd);\n",
       "            observer.disconnect();\n",
       "        }}\n",
       "}});\n",
       "\n",
       "// Listen for the removal of the full notebook cells\n",
       "var notebookContainer = gd.closest('#notebook-container');\n",
       "if (notebookContainer) {{\n",
       "    x.observe(notebookContainer, {childList: true});\n",
       "}}\n",
       "\n",
       "// Listen for the clearing of the current output cell\n",
       "var outputEl = gd.closest('.output');\n",
       "if (outputEl) {{\n",
       "    x.observe(outputEl, {childList: true});\n",
       "}}\n",
       "\n",
       "                        })                };                });            </script>        </div>"
      ]
     },
     "metadata": {},
     "output_type": "display_data"
    }
   ],
   "source": [
    "import plotly.express as px\n",
    "\n",
    "fig = px.bar(x=[data_item.period for data_item in demand_data], y=[data_item.value for data_item in demand_data])\n",
    "fig.show()"
   ]
  },
  {
   "cell_type": "code",
   "execution_count": 8,
   "id": "2187a56d-9994-4517-8fb9-c579ab08f450",
   "metadata": {},
   "outputs": [
    {
     "data": {
      "text/plain": [
       "[Data(period='2023-06-24T05-04', respondent='MIDA', respondent_name='Mid-Atlantic', type='D', type_name='Demand', value=74984, value_units='megawatthours'),\n",
       " Data(period='2023-06-24T05-04', respondent='MIDA', respondent_name='Mid-Atlantic', type='DF', type_name='Day-ahead demand forecast', value=68913, value_units='megawatthours'),\n",
       " Data(period='2023-06-24T05-04', respondent='MIDA', respondent_name='Mid-Atlantic', type='NG', type_name='Net generation', value=80352, value_units='megawatthours'),\n",
       " Data(period='2023-06-24T05-04', respondent='MIDA', respondent_name='Mid-Atlantic', type='TI', type_name='Total interchange', value=5374, value_units='megawatthours')]"
      ]
     },
     "execution_count": 8,
     "metadata": {},
     "output_type": "execute_result"
    }
   ],
   "source": [
    "[data_item for data_item in data if data_item.period == \"2023-06-24T05-04\"]"
   ]
  },
  {
   "cell_type": "code",
   "execution_count": null,
   "id": "a6a78ede-0f46-45eb-ac5d-184658d4cbae",
   "metadata": {},
   "outputs": [],
   "source": []
  }
 ],
 "metadata": {
  "kernelspec": {
   "display_name": "Python 3 (ipykernel)",
   "language": "python",
   "name": "python3"
  },
  "language_info": {
   "codemirror_mode": {
    "name": "ipython",
    "version": 3
   },
   "file_extension": ".py",
   "mimetype": "text/x-python",
   "name": "python",
   "nbconvert_exporter": "python",
   "pygments_lexer": "ipython3",
   "version": "3.10.12"
  }
 },
 "nbformat": 4,
 "nbformat_minor": 5
}
